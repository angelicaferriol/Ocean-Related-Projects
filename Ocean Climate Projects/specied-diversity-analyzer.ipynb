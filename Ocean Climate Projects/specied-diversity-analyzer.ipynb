{
 "cells": [
  {
   "cell_type": "markdown",
   "id": "c503abfc",
   "metadata": {},
   "source": [
    "# Specified Diversity Analyzer"
   ]
  },
  {
   "cell_type": "code",
   "execution_count": null,
   "id": "67f5d2f1",
   "metadata": {},
   "outputs": [],
   "source": [
    "import pandas as pd\n",
    "import matplotlib.pyplot as plt\n",
    "import seaborn as sns\n",
    "import warnings\n",
    "\n",
    "# Suppress warnings for cleaner output\n",
    "warnings.filterwarnings('ignore')"
   ]
  },
  {
   "cell_type": "markdown",
   "id": "409e5cac",
   "metadata": {},
   "source": [
    "### 1. Load and Prepare Data"
   ]
  },
  {
   "cell_type": "code",
   "execution_count": null,
   "id": "051e5a1f",
   "metadata": {},
   "outputs": [],
   "source": [
    "# Load the uploaded dataset\n",
    "file_path = \"ocean_climate_dataset.csv\"\n",
    "\n",
    "# Try reading with utf-8 first\n",
    "try:\n",
    "    df = pd.read_csv(file_path, encoding='utf-8')\n",
    "except UnicodeDecodeError:\n",
    "    df = pd.read_csv(file_path, encoding='ISO-8859-1')\n",
    "\n",
    "# Ensure column name consistency\n",
    "df.rename(columns=lambda x: x.strip(), inplace=True)\n",
    "\n",
    "# Parse 'Date' column properly\n",
    "df['Date'] = pd.to_datetime(df['Date'], errors='coerce')\n",
    "\n",
    "# Drop duplicates and missing dates\n",
    "df.drop_duplicates(inplace=True)\n",
    "df = df.dropna(subset=['Date'])\n",
    "\n",
    "# Clean 'Bleaching Severity' - replace 'None' with 'No Bleaching'\n",
    "df['Bleaching Severity'] = df['Bleaching Severity'].replace('None', 'No Bleaching')\n",
    "\n",
    "# Convert categorical columns\n",
    "df['Location'] = df['Location'].astype('category')\n",
    "df['Bleaching Severity'] = df['Bleaching Severity'].astype('category')\n",
    "\n",
    "# Encode 'Bleaching Severity' and 'Marine Heatwave'\n",
    "severity_mapping = {\n",
    "    'No Bleaching': 0,\n",
    "    'Low': 1,\n",
    "    'Medium': 2,\n",
    "    'High': 3\n",
    "}\n",
    "df['Bleaching Severity Encoded'] = df['Bleaching Severity'].map(severity_mapping)\n",
    "df['Marine Heatwave Encoded'] = df['Marine Heatwave'].astype(int)\n",
    "\n",
    "# Display column names\n",
    "df.columns.tolist()\n",
    "df.info(), df.head()"
   ]
  },
  {
   "cell_type": "markdown",
   "id": "5d707037",
   "metadata": {},
   "source": [
    "### 2. Changes in Species Count Over Time"
   ]
  },
  {
   "cell_type": "code",
   "execution_count": null,
   "id": "34fee75d",
   "metadata": {},
   "outputs": [],
   "source": [
    "# Plotting the data\n",
    "plt.figure(figsize=(14,6))\n",
    "sns.lineplot(data=df, x='Date', y='Species Observed', hue='Location', legend=False)\n",
    "\n",
    "plt.title('Species Observed Over Time by Location', fontsize=16)\n",
    "plt.xlabel('Year', fontsize=12)\n",
    "plt.ylabel('Species Count', fontsize=12)\n",
    "plt.grid(alpha=0.3)\n",
    "plt.tight_layout()\n",
    "plt.show()\n"
   ]
  },
  {
   "cell_type": "markdown",
   "id": "4982cd35",
   "metadata": {},
   "source": [
    "### 3. Biodiversity Hotspots"
   ]
  },
  {
   "cell_type": "code",
   "execution_count": null,
   "id": "94b4e898",
   "metadata": {},
   "outputs": [],
   "source": [
    "# Define biodiversity hotspots based on highest average species count\n",
    "hotspot_df = df.groupby('Location')['Species Observed'].mean().sort_values(ascending=False).head(10)\n",
    "\n",
    "plt.figure(figsize=(12,6))\n",
    "sns.barplot(x=hotspot_df.values, y=hotspot_df.index, palette='viridis')\n",
    "\n",
    "plt.title('Top 10 Biodiversity Hotspots (Avg Species Observed)', fontsize=16)\n",
    "plt.xlabel('Average Species Observed', fontsize=12)\n",
    "plt.ylabel('Location', fontsize=12)\n",
    "plt.grid(axis='x', alpha=0.3)\n",
    "plt.tight_layout()\n",
    "plt.show()"
   ]
  },
  {
   "cell_type": "markdown",
   "id": "83dad42d",
   "metadata": {},
   "source": [
    "### 4. Impact of Marine Heatwaves on Species Count"
   ]
  },
  {
   "cell_type": "code",
   "execution_count": null,
   "id": "18a80434",
   "metadata": {},
   "outputs": [],
   "source": [
    "# Plotting the data\n",
    "heatwave_impact = df.groupby('Marine Heatwave')['Species Observed'].mean()\n",
    "\n",
    "plt.figure(figsize=(8,6))\n",
    "sns.barplot(x=heatwave_impact.index.map({0: 'No Heatwave', 1: 'Heatwave'}), \n",
    "            y=heatwave_impact.values, palette='coolwarm')\n",
    "\n",
    "plt.title('Impact of Marine Heatwaves on Species Observed', fontsize=16)\n",
    "plt.xlabel('Marine Heatwave', fontsize=12)\n",
    "plt.ylabel('Average Species Observed', fontsize=12)\n",
    "plt.grid(axis='y', alpha=0.3)\n",
    "plt.tight_layout()\n",
    "plt.show()\n"
   ]
  },
  {
   "cell_type": "markdown",
   "id": "5f490d8d",
   "metadata": {},
   "source": [
    "### 5. Impact of Coral Bleaching Severity on Species Count"
   ]
  },
  {
   "cell_type": "code",
   "execution_count": null,
   "id": "f9f3ac55",
   "metadata": {},
   "outputs": [],
   "source": [
    "bleaching_order = ['No Bleaching', 'Low', 'Medium', 'High']\n",
    "bleaching_impact = df.groupby('Bleaching Severity')['Species Observed'].mean().reindex(bleaching_order)\n",
    "\n",
    "plt.figure(figsize=(8,6))\n",
    "sns.barplot(x=bleaching_impact.index, y=bleaching_impact.values, palette='mako')\n",
    "\n",
    "plt.title('Impact of Coral Bleaching Severity on Species Observed', fontsize=16)\n",
    "plt.xlabel('Bleaching Severity', fontsize=12)\n",
    "plt.ylabel('Average Species Observed', fontsize=12)\n",
    "plt.grid(axis='y', alpha=0.3)\n",
    "plt.tight_layout()\n",
    "plt.show()"
   ]
  }
 ],
 "metadata": {
  "kernelspec": {
   "display_name": "base",
   "language": "python",
   "name": "python3"
  },
  "language_info": {
   "codemirror_mode": {
    "name": "ipython",
    "version": 3
   },
   "file_extension": ".py",
   "mimetype": "text/x-python",
   "name": "python",
   "nbconvert_exporter": "python",
   "pygments_lexer": "ipython3",
   "version": "3.12.7"
  }
 },
 "nbformat": 4,
 "nbformat_minor": 5
}
