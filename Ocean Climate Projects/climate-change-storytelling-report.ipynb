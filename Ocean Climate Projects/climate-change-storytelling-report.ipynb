{
 "cells": [
  {
   "cell_type": "markdown",
   "id": "2695f54d",
   "metadata": {},
   "source": [
    "# Climate Change Storytelling Report\n",
    "\n",
    "### Overview\n",
    "This project analyzes ocean climate data to reveal how ocean conditions have changed over time. Using data visualization and simple analysis, we aim to tell a compelling story about the impact of climate change."
   ]
  },
  {
   "cell_type": "markdown",
   "id": "a8a11c15",
   "metadata": {},
   "source": [
    "# Import Libraries and Explore the Data"
   ]
  },
  {
   "cell_type": "code",
   "execution_count": null,
   "id": "88ab14dc",
   "metadata": {},
   "outputs": [],
   "source": [
    "import matplotlib.pyplot as plt\n",
    "import seaborn as sns\n",
    "import pandas as pd\n",
    "\n",
    "sns.set_style(\"whitegrid\")\n",
    "\n",
    "# Load and Explore the Data\n",
    "file_path = \"ocean_climate_dataset.csv\" \n",
    "try:\n",
    "    df = pd.read_csv(file_path, encoding='utf-8')  # Try UTF-8 encoding\n",
    "except UnicodeDecodeError:\n",
    "    df = pd.read_csv(file_path, encoding='ISO-8859-1')  # Fallback encoding\n",
    "\n",
    "\n",
    "# View column names to confirm available data\n",
    "print(df.columns)"
   ]
  },
  {
   "cell_type": "markdown",
   "id": "6857ab15",
   "metadata": {},
   "source": [
    "# Data Processing and Cleaning"
   ]
  },
  {
   "cell_type": "code",
   "execution_count": null,
   "id": "ae4026ee",
   "metadata": {},
   "outputs": [],
   "source": [
    "# Check for missing values\n",
    "df.isnull().sum()\n",
    "# Check for missing values\n",
    "print(df.isnull().sum())  \n",
    "\n",
    "# Drop duplicates if any\n",
    "df.drop_duplicates(inplace=True)\n",
    "\n",
    "# Ensure column name consistency\n",
    "df.rename(columns=lambda x: x.strip(), inplace=True)\n",
    "\n",
    "# Parse 'Date' column properly\n",
    "df['Date'] = pd.to_datetime(df['Date'])\n",
    "\n",
    "# Check for missing values\n",
    "missing_values = df.isnull().sum()\n",
    "\n",
    "# Unique values in Bleaching Severity to check for weirdness\n",
    "bleaching_unique = df['Bleaching Severity'].unique()\n",
    "\n",
    "missing_values, bleaching_unique\n",
    "\n",
    "# Clean 'Bleaching Severity' - replace 'None' with 'No Bleaching' for clarity\n",
    "df['Bleaching Severity'] = df['Bleaching Severity'].replace('None', 'No Bleaching')\n",
    "\n",
    "# Convert 'Location' and 'Bleaching Severity' to category dtype\n",
    "df['Location'] = df['Location'].astype('category')\n",
    "df['Bleaching Severity'] = df['Bleaching Severity'].astype('category')\n",
    "\n",
    "# Quick preview to confirm changes\n",
    "df.head()"
   ]
  },
  {
   "cell_type": "markdown",
   "id": "b8940fee",
   "metadata": {},
   "source": [
    "# Data Story Part 1: Rising Sea Surface Temperatures (SST)"
   ]
  },
  {
   "cell_type": "code",
   "execution_count": null,
   "id": "5c3ee371",
   "metadata": {},
   "outputs": [],
   "source": [
    "plt.figure(figsize=(12, 6))\n",
    "sns.lineplot(data=df, x='Date', y='SST (°C)', hue='Location')\n",
    "plt.title('🌡️ Sea Surface Temperature Over Time')\n",
    "plt.ylabel('SST (°C)')\n",
    "plt.xlabel('Year')\n",
    "plt.legend(title='Location', bbox_to_anchor=(1.05, 1), loc='upper left')\n",
    "plt.tight_layout()\n",
    "plt.show()"
   ]
  },
  {
   "cell_type": "markdown",
   "id": "358b6dbd",
   "metadata": {},
   "source": [
    "**Narrative:**\n",
    "> Over the past decades, the ocean’s surface has been steadily heating up. Rising sea surface temperatures disrupt entire ecosystems — from coral reefs undergoing bleaching to fish populations migrating to cooler waters.\n",
    "> The graph vividly illustrates how certain locations are experiencing sharper temperature increases, particularly after [highlight if any year, like 2010 or 2015].\n",
    "> This persistent warming is a clear fingerprint of human-driven climate change"
   ]
  },
  {
   "cell_type": "markdown",
   "id": "0d70557f",
   "metadata": {},
   "source": [
    "# Data Story Part 2: Ocean Acidification: pH Level Decline"
   ]
  },
  {
   "cell_type": "code",
   "execution_count": null,
   "id": "68a91bad",
   "metadata": {},
   "outputs": [],
   "source": [
    "plt.figure(figsize=(12, 6))\n",
    "sns.lineplot(data=df, x='Date', y='pH Level', hue='Location')\n",
    "plt.title('Ocean pH Level Over Time')\n",
    "plt.ylabel('pH Level')\n",
    "plt.xlabel('Year')\n",
    "plt.legend(title='Location', bbox_to_anchor=(1.05, 1), loc='upper left')\n",
    "plt.tight_layout()\n",
    "plt.show()\n"
   ]
  },
  {
   "cell_type": "markdown",
   "id": "cb3176ef",
   "metadata": {},
   "source": [
    "**Narrative:**\n",
    "> As atmospheric CO₂ levels rise, oceans absorb a significant portion of this excess, leading to acidification. The declining trend in ocean pH seen here is subtle but devastating — a small shift toward acidity can erode the shells of marine organisms and disrupt food chains. Notice how the pH levels consistently fall across most locations, signaling a silent crisis that often goes unnoticed compared to temperature rise."
   ]
  },
  {
   "cell_type": "markdown",
   "id": "e873ff9e",
   "metadata": {},
   "source": [
    "# Data Story Part 3: Coral Bleaching Severity"
   ]
  },
  {
   "cell_type": "code",
   "execution_count": null,
   "id": "f5bef032",
   "metadata": {},
   "outputs": [],
   "source": [
    "plt.figure(figsize=(12, 6))\n",
    "sns.lineplot(data=df, x='Date', y='Bleaching Severity', hue='Location')\n",
    "plt.title('Coral Bleaching Severity Over Time')\n",
    "plt.ylabel('Bleaching Severity (0-100)')\n",
    "plt.xlabel('Year')\n",
    "plt.legend(title='Location', bbox_to_anchor=(1.05, 1), loc='upper left')\n",
    "plt.tight_layout()\n",
    "plt.show()"
   ]
  },
  {
   "cell_type": "markdown",
   "id": "521747e6",
   "metadata": {},
   "source": [
    "**Narrative:**\n",
    "> Corals are among the first to show visible signs of ocean distress. This graph highlights the spikes in coral bleaching severity over time. These spikes often coincide with periods of elevated sea surface temperatures and marine heatwaves. Bleaching weakens coral reefs — the rainforests of the sea — reducing their ability to support marine life and protect coastlines from erosion."
   ]
  },
  {
   "cell_type": "markdown",
   "id": "9a9828d3",
   "metadata": {},
   "source": [
    "# Data Story Part 4: Changes (Species Observed)"
   ]
  },
  {
   "cell_type": "code",
   "execution_count": null,
   "id": "8186bad5",
   "metadata": {},
   "outputs": [],
   "source": [
    "plt.figure(figsize=(12, 6))\n",
    "sns.lineplot(data=df, x='Date', y='Species Observed', hue='Location')\n",
    "plt.title('Marine Species Observed Over Time')\n",
    "plt.ylabel('Number of Species')\n",
    "plt.xlabel('Year')\n",
    "plt.legend(title='Location', bbox_to_anchor=(1.05, 1), loc='upper left')\n",
    "plt.tight_layout()\n",
    "plt.show()"
   ]
  },
  {
   "cell_type": "markdown",
   "id": "26bb06e1",
   "metadata": {},
   "source": [
    "**Narrative:**\n",
    "> Biodiversity is a key indicator of ocean health. A rich variety of species suggests a stable, thriving ecosystem. In this graph, fluctuations — and in some locations, declines — in the number of species observed mirror the broader impacts of rising temperatures, acidification, and habitat loss. Every dip in species count reflects not just a loss of life but a loss of resilience for the entire marine system."
   ]
  },
  {
   "cell_type": "markdown",
   "id": "abc18ee4",
   "metadata": {},
   "source": [
    "# Insights and Conclusions\n",
    "\n",
    "- **Sea surface temperatures** are rising over time, particularly after [insert year if you spot a major rise].\n",
    "- **Ocean pH levels** are declining steadily, indicating ongoing acidification that threatens marine life.\n",
    "- **Coral bleaching** incidents spike during marine heatwaves, showing direct thermal stress on ecosystems.\n",
    "- **Species diversity** fluctuates but shows a worrying decline in some locations.\n",
    "- **Marine heatwaves** (based on your Marine Heatwave column — optional to plot!) correspond with bleaching and species loss.\n",
    "\n",
    "### Final Reflection:\n",
    "These visual trends tell a powerful story: our oceans are heating, acidifying, and losing their life forms at an alarming rate. Immediate climate action and marine conservation efforts are critical.\n",
    "\n",
    "# End of Report"
   ]
  }
 ],
 "metadata": {
  "kernelspec": {
   "display_name": "base",
   "language": "python",
   "name": "python3"
  },
  "language_info": {
   "codemirror_mode": {
    "name": "ipython",
    "version": 3
   },
   "file_extension": ".py",
   "mimetype": "text/x-python",
   "name": "python",
   "nbconvert_exporter": "python",
   "pygments_lexer": "ipython3",
   "version": "3.12.7"
  }
 },
 "nbformat": 4,
 "nbformat_minor": 5
}
